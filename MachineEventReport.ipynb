{
 "cells": [
  {
   "cell_type": "code",
   "execution_count": 34,
   "metadata": {},
   "outputs": [],
   "source": [
    "class Event:\n",
    "  def __init__(self, event_date, event_type, machine_name, user):\n",
    "    self.date = event_date\n",
    "    self.type = event_type\n",
    "    self.machine = machine_name\n",
    "    self.user = user"
   ]
  },
  {
   "cell_type": "code",
   "execution_count": 35,
   "metadata": {},
   "outputs": [],
   "source": [
    "events = [\n",
    "    Event('2020-01-21 12:45:56', 'login', 'myworkstation.local', 'jordan'),\n",
    "    Event('2020-01-22 15:53:42', 'logout', 'webserver.local', 'jordan'),\n",
    "    Event('2020-01-21 18:53:21', 'login', 'webserver.local', 'lane'),\n",
    "    Event('2020-01-22 10:25:34', 'logout', 'myworkstation.local', 'jordan'),\n",
    "    Event('2020-01-21 08:20:01', 'login', 'webserver.local', 'jordan'),\n",
    "    Event('2020-01-23 11:24:35', 'logout', 'mailserver.local', 'chris'),\n",
    "]\n",
    "# def get_event_date(event):\n",
    "#     return event.date\n",
    "\n",
    "# events.sort(key = get_event_date)\n",
    "# for event in events:\n",
    "#     print(f\"event date : {event.date:>20}, event type : {event.type:>7}, machine used : {event.machine:>20}, username : {event.user}\")"
   ]
  },
  {
   "cell_type": "code",
   "execution_count": 53,
   "metadata": {},
   "outputs": [],
   "source": [
    "def get_event_date(event):\n",
    "    return event.date\n",
    "\n",
    "def current_users(events):\n",
    "    events.sort(key=get_event_date)\n",
    "    machines = {}\n",
    "    for event in events:\n",
    "        if event.machine not in machines:\n",
    "            machines[event.machine]=set()\n",
    "        if event.type == \"login\":\n",
    "            machines[event.machine].add(event.user)\n",
    "        elif event.type == \"logout\" and event.user in machines[event.machine]:\n",
    "            machines[event.machine].remove(event.user)\n",
    "        \n",
    "    return machines\n",
    "\n",
    "def report_generation(machines):\n",
    "    for machine ,users in machines.items():\n",
    "        if len(users) > 0:\n",
    "            user_name=\", \".join(users)\n",
    "            print(f\"{machine:<20} | Current Machine is used by the user : {user_name}\")\n",
    "        \n",
    "        elif len(users) == 0: # User is a set thats why join\n",
    "            # but machine is not a set its just a string keyword\n",
    "            print(f\"{machine:<20} | Currently this machine is free\")"
   ]
  },
  {
   "cell_type": "code",
   "execution_count": 54,
   "metadata": {},
   "outputs": [
    {
     "name": "stdout",
     "output_type": "stream",
     "text": [
      "webserver.local      | Current Machine is used by the user : lane\n",
      "myworkstation.local  | Currently this machine is free\n",
      "mailserver.local     | Currently this machine is free\n"
     ]
    }
   ],
   "source": [
    "# Now see the Report\n",
    "\n",
    "report_generation(current_users(events))"
   ]
  }
 ],
 "metadata": {
  "kernelspec": {
   "display_name": "Python (myenv)",
   "language": "python",
   "name": "myenv"
  },
  "language_info": {
   "codemirror_mode": {
    "name": "ipython",
    "version": 3
   },
   "file_extension": ".py",
   "mimetype": "text/x-python",
   "name": "python",
   "nbconvert_exporter": "python",
   "pygments_lexer": "ipython3",
   "version": "3.12.3"
  }
 },
 "nbformat": 4,
 "nbformat_minor": 2
}
